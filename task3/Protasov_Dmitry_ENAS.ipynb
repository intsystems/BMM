{
  "nbformat": 4,
  "nbformat_minor": 0,
  "metadata": {
    "colab": {
      "provenance": [],
      "gpuType": "T4"
    },
    "kernelspec": {
      "name": "python3",
      "display_name": "Python 3"
    },
    "language_info": {
      "name": "python"
    },
    "accelerator": "GPU"
  },
  "cells": [
    {
      "cell_type": "markdown",
      "source": [
        "# ENAS: Efficient Neural Architecture Search via Parameter Sharing\n",
        "\n",
        "Implement ENAS for CIFAR-10 dataset. Compare with random structure selection. Model: 3-layer network. Structure: binary mask for each parameter. Plots: model peformance, mask."
      ],
      "metadata": {
        "id": "5NHKK2qpQ56K"
      }
    },
    {
      "cell_type": "code",
      "source": [
        "import torch\n",
        "import torch.nn as nn\n",
        "import torchvision\n",
        "import torchvision.transforms as transforms\n",
        "\n",
        "transform = transforms.Compose([transforms.ToTensor(), transforms.Normalize((0.5, 0.5, 0.5), (0.5, 0.5, 0.5))])\n",
        "trainset = torchvision.datasets.CIFAR10(root='./data', train=True, download=True, transform=transform)\n",
        "trainloader = torch.utils.data.DataLoader(trainset, batch_size=128, shuffle=True)\n",
        "\n",
        "testset = torchvision.datasets.CIFAR10(root='./data', train=False, download=True, transform=transform)\n",
        "testloader = torch.utils.data.DataLoader(testset, batch_size=128, shuffle=False)"
      ],
      "metadata": {
        "colab": {
          "base_uri": "https://localhost:8080/"
        },
        "id": "DnME7JEJo6AX",
        "outputId": "37e7ffc4-cc1e-483c-871f-bf673284385d"
      },
      "execution_count": 3,
      "outputs": [
        {
          "output_type": "stream",
          "name": "stdout",
          "text": [
            "Files already downloaded and verified\n",
            "Files already downloaded and verified\n"
          ]
        }
      ]
    },
    {
      "cell_type": "code",
      "source": [
        "import torch\n",
        "import torch.nn as nn\n",
        "import torch.optim as optim\n",
        "from torch.utils.data import DataLoader\n",
        "import torchvision.datasets as datasets\n",
        "import torchvision.transforms as transforms\n",
        "\n",
        "import torch.nn.functional as F\n",
        "\n",
        "\n",
        "class DynamicMLP(nn.Module):\n",
        "    def __init__(self, input_dim, max_layer1_neurons, max_layer2_neurons, output_dim):\n",
        "        super(DynamicMLP, self).__init__()\n",
        "        self.fc1 = nn.Linear(input_dim, max_layer1_neurons)\n",
        "        self.fc2 = nn.Linear(max_layer1_neurons, max_layer2_neurons)\n",
        "        self.fc3 = nn.Linear(max_layer2_neurons, output_dim)\n",
        "        self.mask_layer1 = None\n",
        "        self.mask_layer2 = None\n",
        "\n",
        "    def forward(self, x):\n",
        "        x = F.relu(self.fc1(x.view(-1, input_dim)))\n",
        "        x = x * self.mask_layer1.expand_as(x)\n",
        "        x = F.relu(self.fc2(x))\n",
        "        x = x * self.mask_layer2.expand_as(x)\n",
        "        x = self.fc3(x)\n",
        "        return x\n",
        "\n",
        "    def apply_mask(self, mask_layer1, mask_layer2):\n",
        "        self.mask_layer1 = mask_layer1\n",
        "        self.mask_layer2 = mask_layer2"
      ],
      "metadata": {
        "id": "UrVMHvR32Dqj"
      },
      "execution_count": 4,
      "outputs": []
    },
    {
      "cell_type": "code",
      "source": [
        "class Controller(nn.Module):\n",
        "    def __init__(self, max_layer1_neurons, max_layer2_neurons, hidden_dim, num_layers):\n",
        "        super(Controller, self).__init__()\n",
        "        self.num_layers = num_layers\n",
        "        self.hidden_dim = hidden_dim\n",
        "        self.lstm = nn.LSTM(input_size=3 * 32 * 32, hidden_size=hidden_dim, num_layers=num_layers)\n",
        "        self.fc = nn.Linear(hidden_dim, max_layer1_neurons + max_layer2_neurons)\n",
        "        self.log_probs = None\n",
        "\n",
        "    def forward(self, x):\n",
        "        batch_size = x.size(0)\n",
        "        h_0 = torch.zeros(self.num_layers, batch_size, self.hidden_dim)\n",
        "        c_0 = torch.zeros(self.num_layers, batch_size, self.hidden_dim)\n",
        "\n",
        "        out, (h_n, c_n) = self.lstm(x.view(batch_size, -1).unsqueeze(0), (h_0, c_0))\n",
        "        mask_logits = self.fc(h_n[-1])\n",
        "\n",
        "        mask_logits_layer1 = mask_logits[:, :max_layer1_neurons]\n",
        "        mask_logits_layer2 = mask_logits[:, max_layer1_neurons:max_layer1_neurons + max_layer2_neurons]\n",
        "        mask_layer1 = torch.sigmoid(mask_logits_layer1).mean(0) > 0.5\n",
        "        mask_layer2 = torch.sigmoid(mask_logits_layer2).mean(0) > 0.5\n",
        "\n",
        "        return mask_layer1.float(), mask_layer2.float(), mask_logits\n",
        "\n",
        "    def sample_masks(self):\n",
        "        x = torch.zeros(1, 1, 3 * 32 * 32)  # Фиктивный вход для генерации маски\n",
        "                              # (не очень понял из статьи как надо на самом деле, возможно, стоило генерить рандомно)\n",
        "        mask_layer1, mask_layer2, log_probs = self.forward(x)\n",
        "        self.log_probs = log_probs\n",
        "        return mask_layer1, mask_layer2"
      ],
      "metadata": {
        "id": "g8ZMwhPBi2bZ"
      },
      "execution_count": 24,
      "outputs": []
    },
    {
      "cell_type": "code",
      "source": [
        "def train_shared_child_parameters(controller, mlp_model, trainloader, optimizer):\n",
        "    mlp_model.train()\n",
        "    for inputs, targets in trainloader:\n",
        "        optimizer.zero_grad()\n",
        "\n",
        "        inputs = inputs.view(-1, 3 * 32 * 32)\n",
        "        mask_layer1, mask_layer2, _ = controller.forward(inputs)\n",
        "\n",
        "        mlp_model.apply_mask(mask_layer1, mask_layer2)\n",
        "        outputs = mlp_model(inputs)\n",
        "        loss = F.cross_entropy(outputs, targets)\n",
        "\n",
        "        loss.backward()\n",
        "        optimizer.step()\n",
        "    return loss.item()"
      ],
      "metadata": {
        "id": "Xbf8gAMYpxui"
      },
      "execution_count": 6,
      "outputs": []
    },
    {
      "cell_type": "code",
      "source": [
        "def evaluate(model, testloader):\n",
        "    model.eval()\n",
        "    total_loss = 0\n",
        "    total_count = 0\n",
        "\n",
        "    with torch.no_grad():\n",
        "        for x, y in testloader:\n",
        "            output = model(x)\n",
        "            loss = F.cross_entropy(output, y)\n",
        "            total_loss += loss.item() * x.size(0)\n",
        "            total_count += x.size(0)\n",
        "\n",
        "    avg_loss = total_loss / total_count\n",
        "    perplexity = torch.exp(torch.tensor(avg_loss))\n",
        "    return perplexity"
      ],
      "metadata": {
        "id": "rnKarhVDnMC5"
      },
      "execution_count": 12,
      "outputs": []
    },
    {
      "cell_type": "code",
      "source": [
        "def train(controller, mlp_model, optimizer, trainloader, testloader, num_epochs, num_layers):\n",
        "    metrics = {'loss': [], 'reward': []}\n",
        "    for epoch in range(num_epochs):\n",
        "\n",
        "        # Train DynamicMLP\n",
        "        train_loss = train_shared_child_parameters(controller, mlp_model, trainloader, optimizer)\n",
        "\n",
        "        # Train Controller using REINFORCE\n",
        "        mask_layer1, mask_layer2 = controller.sample_masks()\n",
        "        mlp_model.apply_mask(mask_layer1, mask_layer2)\n",
        "\n",
        "        valid_ppl = evaluate(mlp_model, testloader)\n",
        "        reward = 10 / valid_ppl\n",
        "\n",
        "        optimizer.zero_grad()\n",
        "        policy_loss = [-log_prob * reward for log_prob in controller.log_probs]\n",
        "        policy_loss = torch.cat(policy_loss).sum()\n",
        "        policy_loss.backward()\n",
        "        optimizer.step()\n",
        "\n",
        "        metrics['loss'].append(train_loss)\n",
        "        metrics['reward'].append(reward)\n",
        "        print(f'Epoch {epoch+1}, Total Loss: {train_loss:.6f}, Total Reward: {reward:.6f}')\n",
        "    return metrics"
      ],
      "metadata": {
        "id": "eWtEWkaJYVyh"
      },
      "execution_count": 8,
      "outputs": []
    },
    {
      "cell_type": "code",
      "source": [
        "input_dim = 3072  # Размер входных данных CIFAR-10\n",
        "hidden_dim = 100  # Размер скрытого слоя LSTM\n",
        "num_layers = 5  # Число слоев в LSTM\n",
        "output_dim = 10  # Количество классов в CIFAR-10\n",
        "max_layer1_neurons = 400\n",
        "max_layer2_neurons = 100\n",
        "\n",
        "\n",
        "controller = Controller(max_layer1_neurons, max_layer2_neurons, hidden_dim, num_layers)\n",
        "mlp_model = DynamicMLP(input_dim, max_layer1_neurons, max_layer2_neurons, output_dim)\n",
        "optimizer = optim.Adam(mlp_model.parameters(), lr=0.001)\n",
        "\n",
        "\n",
        "metrics = train(controller, mlp_model, optimizer, trainloader, testloader, num_epochs=20, num_layers=5)"
      ],
      "metadata": {
        "colab": {
          "base_uri": "https://localhost:8080/"
        },
        "id": "pGVfl_0Qc6oA",
        "outputId": "2baaca35-0e92-4a37-b724-6be6258e8cdf"
      },
      "execution_count": 9,
      "outputs": [
        {
          "output_type": "stream",
          "name": "stdout",
          "text": [
            "Epoch 1, Total Loss: 1.330101, Total Reward: 2.223372\n",
            "Epoch 2, Total Loss: 1.555143, Total Reward: 2.383873\n",
            "Epoch 3, Total Loss: 1.328307, Total Reward: 2.453218\n",
            "Epoch 4, Total Loss: 1.383363, Total Reward: 2.537764\n",
            "Epoch 5, Total Loss: 1.218822, Total Reward: 2.566392\n",
            "Epoch 6, Total Loss: 1.231076, Total Reward: 2.556338\n",
            "Epoch 7, Total Loss: 1.102853, Total Reward: 2.555890\n",
            "Epoch 8, Total Loss: 1.072365, Total Reward: 2.567575\n",
            "Epoch 9, Total Loss: 0.970481, Total Reward: 2.491430\n",
            "Epoch 10, Total Loss: 1.007844, Total Reward: 2.482187\n",
            "Epoch 11, Total Loss: 1.300899, Total Reward: 2.367444\n",
            "Epoch 12, Total Loss: 0.947235, Total Reward: 2.283895\n",
            "Epoch 13, Total Loss: 0.969275, Total Reward: 2.256235\n",
            "Epoch 14, Total Loss: 0.700988, Total Reward: 2.249956\n",
            "Epoch 15, Total Loss: 0.771694, Total Reward: 2.145426\n",
            "Epoch 16, Total Loss: 0.779542, Total Reward: 2.082636\n",
            "Epoch 17, Total Loss: 0.857921, Total Reward: 2.011847\n",
            "Epoch 18, Total Loss: 0.511583, Total Reward: 1.951934\n",
            "Epoch 19, Total Loss: 0.810477, Total Reward: 1.915851\n",
            "Epoch 20, Total Loss: 0.643257, Total Reward: 1.748169\n"
          ]
        }
      ]
    },
    {
      "cell_type": "code",
      "source": [
        "import matplotlib.pyplot as plt\n",
        "\n",
        "plt.figure(figsize=(12, 6))\n",
        "plt.plot(metrics['loss'], label='loss')\n",
        "plt.plot(metrics['reward'], label='reward')\n",
        "plt.legend()\n",
        "plt.show()"
      ],
      "metadata": {
        "colab": {
          "base_uri": "https://localhost:8080/",
          "height": 522
        },
        "id": "XGD4xu-lznQB",
        "outputId": "2facb93a-5ebe-4492-ffda-53d94a0ab364"
      },
      "execution_count": 23,
      "outputs": [
        {
          "output_type": "display_data",
          "data": {
            "text/plain": [
              "<Figure size 1200x600 with 1 Axes>"
            ],
            "image/png": "[encoded data removed]"
          },
          "metadata": {}
        }
      ]
    },
    {
      "cell_type": "markdown",
      "source": [
        "Довольно странная поведение у графика Reward функции. Возможно, чтобы работал алгоритм Reinforce надо получать маски не по фиктивному входу, либо выбрать другие гиперпараметры"
      ],
      "metadata": {
        "id": "9MYR80-ez2xV"
      }
    },
    {
      "cell_type": "code",
      "source": [
        "from tqdm import trange\n",
        "\n",
        "def RandomSelectionSearch(max_layer1_neurons, max_layer2_neurons):\n",
        "    mask_layer1 = torch.rand(max_layer1_neurons) > 0.5\n",
        "    mask_layer2 = torch.rand(max_layer2_neurons) > 0.5\n",
        "    return mask_layer1.float(), mask_layer2.float()\n",
        "\n",
        "rnd_mlp_model = DynamicMLP(input_dim, max_layer1_neurons, max_layer2_neurons, output_dim)\n",
        "num_iterations = 50\n",
        "\n",
        "best_reward = -float('inf')\n",
        "best_mask = RandomSelectionSearch(max_layer1_neurons, max_layer2_neurons)\n",
        "\n",
        "for i in trange(num_iterations):\n",
        "    mask_layer1, mask_layer2 = RandomSelectionSearch(max_layer1_neurons, max_layer2_neurons)\n",
        "\n",
        "    rnd_mlp_model.apply_mask(mask_layer1, mask_layer2)\n",
        "    valid_ppl = evaluate(rnd_mlp_model, testloader)\n",
        "    reward = 10 / valid_ppl\n",
        "\n",
        "    if reward > best_reward:\n",
        "        best_reward = reward\n",
        "        best_mask = mask_layer1, mask_layer2\n",
        "        print(f\"New Best Reward: {best_reward:.6f}\")\n",
        "\n",
        "rnd_mlp_model.apply_mask(*best_mask)"
      ],
      "metadata": {
        "colab": {
          "base_uri": "https://localhost:8080/"
        },
        "id": "Px6gVGMvkprY",
        "outputId": "8a4e0f43-9651-4869-a2de-8fd4f4a4f6ba"
      },
      "execution_count": 21,
      "outputs": [
        {
          "output_type": "stream",
          "name": "stderr",
          "text": [
            "  2%|▏         | 1/50 [00:02<02:10,  2.66s/it]"
          ]
        },
        {
          "output_type": "stream",
          "name": "stdout",
          "text": [
            "New Best Reward: 0.996075\n"
          ]
        },
        {
          "output_type": "stream",
          "name": "stderr",
          "text": [
            "\r  4%|▍         | 2/50 [00:06<02:35,  3.23s/it]"
          ]
        },
        {
          "output_type": "stream",
          "name": "stdout",
          "text": [
            "New Best Reward: 0.996805\n"
          ]
        },
        {
          "output_type": "stream",
          "name": "stderr",
          "text": [
            "\r  6%|▌         | 3/50 [00:09<02:28,  3.16s/it]"
          ]
        },
        {
          "output_type": "stream",
          "name": "stdout",
          "text": [
            "New Best Reward: 0.998629\n"
          ]
        },
        {
          "output_type": "stream",
          "name": "stderr",
          "text": [
            " 24%|██▍       | 12/50 [00:37<01:54,  3.02s/it]"
          ]
        },
        {
          "output_type": "stream",
          "name": "stdout",
          "text": [
            "New Best Reward: 0.999045\n"
          ]
        },
        {
          "output_type": "stream",
          "name": "stderr",
          "text": [
            "100%|██████████| 50/50 [02:29<00:00,  2.99s/it]\n"
          ]
        }
      ]
    },
    {
      "cell_type": "markdown",
      "source": [
        "Видим, что RandomSelectionSearch не может получить модель с reward > 1, в отличие от ENAS"
      ],
      "metadata": {
        "id": "-G2bjkX8y9ce"
      }
    },
    {
      "cell_type": "code",
      "source": [
        "import matplotlib.pyplot as plt\n",
        "import numpy as np\n",
        "\n",
        "def visualize_masks(mask_layer1, mask_layer2):\n",
        "    mask_layer1_np = mask_layer1.cpu().numpy()\n",
        "    mask_layer2_np = mask_layer2.cpu().numpy()\n",
        "\n",
        "    # Визуализация маски для слоя 1\n",
        "    plt.figure(figsize=(20, 4))\n",
        "    plt.subplot(2, 1, 1)\n",
        "    plt.imshow(mask_layer1_np[np.newaxis, :], cmap='binary')\n",
        "    plt.title(\"Mask for Layer 1\")\n",
        "    plt.yticks([])\n",
        "\n",
        "    # Визуализация маски для слоя 2\n",
        "    plt.subplot(2, 1, 2)\n",
        "    plt.imshow(mask_layer2_np[np.newaxis, :], cmap='binary')\n",
        "    plt.title(\"Mask for Layer 2\")\n",
        "    plt.yticks([])\n",
        "\n",
        "    plt.show()\n",
        "\n",
        "visualize_masks(mlp_model.mask_layer1, mlp_model.mask_layer2)"
      ],
      "metadata": {
        "colab": {
          "base_uri": "https://localhost:8080/",
          "height": 241
        },
        "id": "iR3aT2IpkkjT",
        "outputId": "71ac9c9c-8195-4c92-b5ce-22133acc318b"
      },
      "execution_count": 19,
      "outputs": [
        {
          "output_type": "display_data",
          "data": {
            "text/plain": [
              "<Figure size 2000x400 with 2 Axes>"
            ],
            "image/png": "[encoded data removed]"
          },
          "metadata": {}
        }
      ]
    },
    {
      "cell_type": "code",
      "source": [
        "# best_mask -- лучшие маски для RandomSelectionSearch\n",
        "visualize_masks(*best_mask)"
      ],
      "metadata": {
        "colab": {
          "base_uri": "https://localhost:8080/",
          "height": 280
        },
        "id": "v8vev41ZyoLG",
        "outputId": "c5ac4d1b-8071-4554-fe93-be416fa48574"
      },
      "execution_count": 20,
      "outputs": [
        {
          "output_type": "display_data",
          "data": {
            "text/plain": [
              "<Figure size 2000x400 with 2 Axes>"
            ],
            "image/png": "[encoded data removed]"
          },
          "metadata": {}
        }
      ]
    },
    {
      "cell_type": "code",
      "source": [],
      "metadata": {
        "id": "ua_d4PgQy6QI"
      },
      "execution_count": null,
      "outputs": []
    }
  ]
}