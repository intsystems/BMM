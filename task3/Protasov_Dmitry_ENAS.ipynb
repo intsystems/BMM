{
  "nbformat": 4,
  "nbformat_minor": 0,
  "metadata": {
    "colab": {
      "provenance": [],
      "gpuType": "T4"
    },
    "kernelspec": {
      "name": "python3",
      "display_name": "Python 3"
    },
    "language_info": {
      "name": "python"
    },
    "accelerator": "GPU"
  },
  "cells": [
    {
      "cell_type": "markdown",
      "source": [
        "# ENAS: Efficient Neural Architecture Search via Parameter Sharing\n",
        "\n",
        "Implement ENAS for CIFAR-10 dataset. Compare with random structure selection. Model: 3-layer network. Structure: binary mask for each parameter. Plots: model peformance, mask."
      ],
      "metadata": {
        "id": "5NHKK2qpQ56K"
      }
    },
    {
      "cell_type": "code",
      "source": [
        "import torch\n",
        "import torch.nn as nn\n",
        "import torchvision\n",
        "import torchvision.transforms as transforms\n",
        "\n",
        "transform = transforms.Compose([transforms.ToTensor(), transforms.Normalize((0.5, 0.5, 0.5), (0.5, 0.5, 0.5))])\n",
        "trainset = torchvision.datasets.CIFAR10(root='./data', train=True, download=True, transform=transform)\n",
        "trainloader = torch.utils.data.DataLoader(trainset, batch_size=128, shuffle=True)\n",
        "\n",
        "testset = torchvision.datasets.CIFAR10(root='./data', train=False, download=True, transform=transform)\n",
        "testloader = torch.utils.data.DataLoader(testset, batch_size=128, shuffle=False)"
      ],
      "metadata": {
        "colab": {
          "base_uri": "https://localhost:8080/"
        },
        "id": "DnME7JEJo6AX",
        "outputId": "2b93e9c1-febd-4a07-e6da-b056bb30bfd3"
      },
      "execution_count": 12,
      "outputs": [
        {
          "output_type": "stream",
          "name": "stdout",
          "text": [
            "Files already downloaded and verified\n",
            "Files already downloaded and verified\n"
          ]
        }
      ]
    },
    {
      "cell_type": "code",
      "source": [
        "import torch\n",
        "import torch.nn as nn\n",
        "import torch.optim as optim\n",
        "from torch.utils.data import DataLoader\n",
        "import torchvision.datasets as datasets\n",
        "import torchvision.transforms as transforms\n",
        "\n",
        "import torch.nn.functional as F\n",
        "\n",
        "\n",
        "class DynamicMLP(nn.Module):\n",
        "    def __init__(self, input_dim, max_layer1_neurons, max_layer2_neurons, output_dim):\n",
        "        super(DynamicMLP, self).__init__()\n",
        "        self.fc1 = nn.Linear(input_dim, max_layer1_neurons)\n",
        "        self.fc2 = nn.Linear(max_layer1_neurons, max_layer2_neurons)\n",
        "        self.fc3 = nn.Linear(max_layer2_neurons, output_dim)\n",
        "        self.mask_layer1 = None\n",
        "        self.mask_layer2 = None\n",
        "\n",
        "    def forward(self, x):\n",
        "        x = F.relu(self.fc1(x.view(-1, input_dim)))\n",
        "        x = x * self.mask_layer1.expand_as(x)\n",
        "        x = F.relu(self.fc2(x))\n",
        "        x = x * self.mask_layer2.expand_as(x)\n",
        "        x = self.fc3(x)\n",
        "        return x\n",
        "\n",
        "    def apply_mask(self, mask_layer1, mask_layer2):\n",
        "        self.mask_layer1 = mask_layer1\n",
        "        self.mask_layer2 = mask_layer2"
      ],
      "metadata": {
        "id": "UrVMHvR32Dqj"
      },
      "execution_count": 13,
      "outputs": []
    },
    {
      "cell_type": "code",
      "source": [
        "class Controller(nn.Module):\n",
        "    def __init__(self, max_layer1_neurons, max_layer2_neurons, hidden_dim, num_layers):\n",
        "        super(Controller, self).__init__()\n",
        "        self.num_layers = num_layers\n",
        "        self.hidden_dim = hidden_dim\n",
        "        self.lstm = nn.LSTM(input_size=3 * 32 * 32, hidden_size=hidden_dim, num_layers=num_layers)\n",
        "        self.fc = nn.Linear(hidden_dim, max_layer1_neurons + max_layer2_neurons)\n",
        "        self.log_probs = None\n",
        "\n",
        "    def forward(self, x):\n",
        "        batch_size = x.size(0)\n",
        "        h_0 = torch.zeros(self.num_layers, batch_size, self.hidden_dim)\n",
        "        c_0 = torch.zeros(self.num_layers, batch_size, self.hidden_dim)\n",
        "\n",
        "        out, (h_n, c_n) = self.lstm(x.view(batch_size, -1).unsqueeze(0), (h_0, c_0))\n",
        "        mask_logits = self.fc(h_n[-1])\n",
        "\n",
        "        mask_logits_layer1 = mask_logits[:, :max_layer1_neurons]\n",
        "        mask_logits_layer2 = mask_logits[:, max_layer1_neurons:max_layer1_neurons + max_layer2_neurons]\n",
        "        mask_layer1 = torch.sigmoid(mask_logits_layer1).mean(0) > 0.5\n",
        "        mask_layer2 = torch.sigmoid(mask_logits_layer2).mean(0) > 0.5\n",
        "\n",
        "        return mask_layer1.float(), mask_layer2.float(), mask_logits\n",
        "\n",
        "    def sample_masks(self):\n",
        "        x = torch.rand(1, 1, 3 * 32 * 32)\n",
        "        mask_layer1, mask_layer2, log_probs = self.forward(x)\n",
        "        self.log_probs = log_probs\n",
        "        return mask_layer1, mask_layer2"
      ],
      "metadata": {
        "id": "g8ZMwhPBi2bZ"
      },
      "execution_count": 14,
      "outputs": []
    },
    {
      "cell_type": "code",
      "source": [
        "def train_shared_child_parameters(controller, mlp_model, trainloader, optimizer):\n",
        "    mlp_model.train()\n",
        "    for inputs, targets in trainloader:\n",
        "        optimizer.zero_grad()\n",
        "\n",
        "        inputs = inputs.view(-1, 3 * 32 * 32)\n",
        "        mask_layer1, mask_layer2, _ = controller.forward(inputs)\n",
        "\n",
        "        mlp_model.apply_mask(mask_layer1, mask_layer2)\n",
        "        outputs = mlp_model(inputs)\n",
        "        loss = F.cross_entropy(outputs, targets)\n",
        "\n",
        "        loss.backward()\n",
        "        optimizer.step()\n",
        "    return loss.item()"
      ],
      "metadata": {
        "id": "Xbf8gAMYpxui"
      },
      "execution_count": 15,
      "outputs": []
    },
    {
      "cell_type": "code",
      "source": [
        "def evaluate(model, testloader):\n",
        "    model.eval()\n",
        "    total_loss = 0\n",
        "    total_count = 0\n",
        "\n",
        "    with torch.no_grad():\n",
        "        for x, y in testloader:\n",
        "            output = model(x)\n",
        "            loss = F.cross_entropy(output, y)\n",
        "            total_loss += loss.item() * x.size(0)\n",
        "            total_count += x.size(0)\n",
        "\n",
        "    avg_loss = total_loss / total_count\n",
        "    perplexity = torch.exp(torch.tensor(avg_loss))\n",
        "    return perplexity"
      ],
      "metadata": {
        "id": "rnKarhVDnMC5"
      },
      "execution_count": 16,
      "outputs": []
    },
    {
      "cell_type": "code",
      "source": [
        "def train(controller, mlp_model, optimizer_mlp, optimizer_controller, trainloader, testloader, num_epochs, num_layers):\n",
        "    metrics = {'loss': [], 'reward': []}\n",
        "    for epoch in range(num_epochs):\n",
        "\n",
        "        # Train DynamicMLP\n",
        "        train_loss = train_shared_child_parameters(controller, mlp_model, trainloader, optimizer_mlp)\n",
        "\n",
        "        # Train Controller using REINFORCE\n",
        "        optimizer_controller.zero_grad()\n",
        "        mask_layer1, mask_layer2 = controller.sample_masks()\n",
        "        mlp_model.apply_mask(mask_layer1, mask_layer2)\n",
        "\n",
        "        valid_ppl = evaluate(mlp_model, testloader)\n",
        "        reward = 10 / valid_ppl\n",
        "\n",
        "        policy_loss = [-log_prob * reward for log_prob in controller.log_probs]\n",
        "        policy_loss = torch.cat(policy_loss).sum()\n",
        "        policy_loss.backward()\n",
        "        optimizer_controller.step()\n",
        "\n",
        "        metrics['loss'].append(train_loss)\n",
        "        metrics['reward'].append(reward)\n",
        "        print(f'Epoch {epoch+1}, Total Loss: {train_loss:.6f}, Total Reward: {reward:.6f}')\n",
        "    return metrics"
      ],
      "metadata": {
        "id": "eWtEWkaJYVyh"
      },
      "execution_count": 17,
      "outputs": []
    },
    {
      "cell_type": "code",
      "source": [
        "input_dim = 3072  # Размер входных данных CIFAR-10\n",
        "hidden_dim = 100  # Размер скрытого слоя LSTM\n",
        "num_layers = 5  # Число слоев в LSTM\n",
        "output_dim = 10  # Количество классов в CIFAR-10\n",
        "max_layer1_neurons = 400\n",
        "max_layer2_neurons = 100\n",
        "\n",
        "\n",
        "controller = Controller(max_layer1_neurons, max_layer2_neurons, hidden_dim, num_layers)\n",
        "mlp_model = DynamicMLP(input_dim, max_layer1_neurons, max_layer2_neurons, output_dim)\n",
        "optimizer_mlp = optim.Adam(mlp_model.parameters(), lr=0.001)\n",
        "optimizer_controller = optim.Adam(controller.parameters(), lr=0.001)\n",
        "\n",
        "\n",
        "metrics = train(\n",
        "    controller, mlp_model, optimizer_mlp, optimizer_controller,\n",
        "    trainloader, testloader, num_epochs=15, num_layers=4\n",
        ")"
      ],
      "metadata": {
        "colab": {
          "base_uri": "https://localhost:8080/"
        },
        "id": "pGVfl_0Qc6oA",
        "outputId": "8abf7d7a-62ac-47f8-bdd1-327fd1453a6c"
      },
      "execution_count": 8,
      "outputs": [
        {
          "output_type": "stream",
          "name": "stdout",
          "text": [
            "Epoch 1, Total Loss: 1.446586, Total Reward: 2.199613\n",
            "Epoch 2, Total Loss: 1.270701, Total Reward: 2.338938\n",
            "Epoch 3, Total Loss: 1.316071, Total Reward: 2.462967\n",
            "Epoch 4, Total Loss: 1.312156, Total Reward: 2.544069\n",
            "Epoch 5, Total Loss: 1.163623, Total Reward: 2.592129\n",
            "Epoch 6, Total Loss: 1.213681, Total Reward: 2.581712\n",
            "Epoch 7, Total Loss: 1.205777, Total Reward: 2.618880\n",
            "Epoch 8, Total Loss: 1.105808, Total Reward: 2.448693\n",
            "Epoch 9, Total Loss: 0.973064, Total Reward: 2.540597\n",
            "Epoch 10, Total Loss: 0.785823, Total Reward: 2.453247\n",
            "Epoch 11, Total Loss: 0.859920, Total Reward: 2.353130\n",
            "Epoch 12, Total Loss: 0.897900, Total Reward: 2.318233\n",
            "Epoch 13, Total Loss: 0.912541, Total Reward: 2.251776\n",
            "Epoch 14, Total Loss: 0.780301, Total Reward: 2.130783\n",
            "Epoch 15, Total Loss: 0.985813, Total Reward: 2.113278\n"
          ]
        }
      ]
    },
    {
      "cell_type": "code",
      "source": [
        "import matplotlib.pyplot as plt\n",
        "\n",
        "plt.figure(figsize=(12, 6))\n",
        "plt.plot(metrics['loss'], label='loss')\n",
        "plt.plot(metrics['reward'], label='reward')\n",
        "plt.legend()\n",
        "plt.show()"
      ],
      "metadata": {
        "colab": {
          "base_uri": "https://localhost:8080/",
          "height": 522
        },
        "id": "XGD4xu-lznQB",
        "outputId": "f9bfab6c-8ad2-45ea-9e17-a41ce25a16e7"
      },
      "execution_count": 9,
      "outputs": [
        {
          "output_type": "display_data",
          "data": {
            "text/plain": [
              "<Figure size 1200x600 with 1 Axes>"
            ],
            "image/png": "[encoded data removed]"
          },
          "metadata": {}
        }
      ]
    },
    {
      "cell_type": "markdown",
      "source": [
        "Довольно странное поведение у графика Reward функции"
      ],
      "metadata": {
        "id": "9MYR80-ez2xV"
      }
    },
    {
      "cell_type": "code",
      "source": [
        "from tqdm import trange\n",
        "\n",
        "def RandomSelectionSearch(max_layer1_neurons, max_layer2_neurons):\n",
        "    mask_layer1 = torch.rand(max_layer1_neurons) > 0.5\n",
        "    mask_layer2 = torch.rand(max_layer2_neurons) > 0.5\n",
        "    return mask_layer1.float(), mask_layer2.float()\n",
        "\n",
        "rnd_mlp_model = DynamicMLP(input_dim, max_layer1_neurons, max_layer2_neurons, output_dim)\n",
        "num_iterations = 50\n",
        "\n",
        "best_reward = -float('inf')\n",
        "best_mask = RandomSelectionSearch(max_layer1_neurons, max_layer2_neurons)\n",
        "\n",
        "for i in trange(num_iterations):\n",
        "    mask_layer1, mask_layer2 = RandomSelectionSearch(max_layer1_neurons, max_layer2_neurons)\n",
        "\n",
        "    rnd_mlp_model.apply_mask(mask_layer1, mask_layer2)\n",
        "    valid_ppl = evaluate(rnd_mlp_model, testloader)\n",
        "    reward = 10 / valid_ppl\n",
        "\n",
        "    if reward > best_reward:\n",
        "        best_reward = reward\n",
        "        best_mask = mask_layer1, mask_layer2\n",
        "        print(f\"New Best Reward: {best_reward:.6f}\")\n",
        "\n",
        "rnd_mlp_model.apply_mask(*best_mask)"
      ],
      "metadata": {
        "colab": {
          "base_uri": "https://localhost:8080/"
        },
        "id": "Px6gVGMvkprY",
        "outputId": "250c36c5-9ae6-46dd-e3a4-05b4c5fa849d"
      },
      "execution_count": 18,
      "outputs": [
        {
          "output_type": "stream",
          "name": "stderr",
          "text": [
            "  2%|▏         | 1/50 [00:08<07:20,  8.99s/it]"
          ]
        },
        {
          "output_type": "stream",
          "name": "stdout",
          "text": [
            "New Best Reward: 1.001954\n"
          ]
        },
        {
          "output_type": "stream",
          "name": "stderr",
          "text": [
            "  6%|▌         | 3/50 [00:16<03:53,  4.96s/it]"
          ]
        },
        {
          "output_type": "stream",
          "name": "stdout",
          "text": [
            "New Best Reward: 1.002527\n"
          ]
        },
        {
          "output_type": "stream",
          "name": "stderr",
          "text": [
            " 50%|█████     | 25/50 [01:37<01:32,  3.70s/it]"
          ]
        },
        {
          "output_type": "stream",
          "name": "stdout",
          "text": [
            "New Best Reward: 1.003506\n"
          ]
        },
        {
          "output_type": "stream",
          "name": "stderr",
          "text": [
            "100%|██████████| 50/50 [03:10<00:00,  3.80s/it]\n"
          ]
        }
      ]
    },
    {
      "cell_type": "markdown",
      "source": [
        "Видим, что RandomSelectionSearch не может получить модель с reward сильно выше 1, в отличие от ENAS"
      ],
      "metadata": {
        "id": "-G2bjkX8y9ce"
      }
    },
    {
      "cell_type": "code",
      "source": [
        "import matplotlib.pyplot as plt\n",
        "import numpy as np\n",
        "\n",
        "def visualize_masks(mask_layer1, mask_layer2):\n",
        "    mask_layer1_np = mask_layer1.cpu().numpy()\n",
        "    mask_layer2_np = mask_layer2.cpu().numpy()\n",
        "\n",
        "    # Визуализация маски для слоя 1\n",
        "    plt.figure(figsize=(20, 4))\n",
        "    plt.subplot(2, 1, 1)\n",
        "    plt.imshow(mask_layer1_np[np.newaxis, :], cmap='binary')\n",
        "    plt.title(\"Mask for Layer 1\")\n",
        "    plt.yticks([])\n",
        "\n",
        "    # Визуализация маски для слоя 2\n",
        "    plt.subplot(2, 1, 2)\n",
        "    plt.imshow(mask_layer2_np[np.newaxis, :], cmap='binary')\n",
        "    plt.title(\"Mask for Layer 2\")\n",
        "    plt.yticks([])\n",
        "\n",
        "    plt.show()\n",
        "\n",
        "visualize_masks(mlp_model.mask_layer1, mlp_model.mask_layer2)"
      ],
      "metadata": {
        "colab": {
          "base_uri": "https://localhost:8080/",
          "height": 241
        },
        "id": "iR3aT2IpkkjT",
        "outputId": "71ac9c9c-8195-4c92-b5ce-22133acc318b"
      },
      "execution_count": 19,
      "outputs": [
        {
          "output_type": "display_data",
          "data": {
            "text/plain": [
              "<Figure size 2000x400 with 2 Axes>"
            ],
            "image/png": "[encoded data removed]"
          },
          "metadata": {}
        }
      ]
    },
    {
      "cell_type": "code",
      "source": [
        "# best_mask -- лучшие маски для RandomSelectionSearch\n",
        "visualize_masks(*best_mask)"
      ],
      "metadata": {
        "colab": {
          "base_uri": "https://localhost:8080/",
          "height": 280
        },
        "id": "v8vev41ZyoLG",
        "outputId": "c5ac4d1b-8071-4554-fe93-be416fa48574"
      },
      "execution_count": 20,
      "outputs": [
        {
          "output_type": "display_data",
          "data": {
            "text/plain": [
              "<Figure size 2000x400 with 2 Axes>"
            ],
            "image/png": "[encoded data removed]"
          },
          "metadata": {}
        }
      ]
    },
    {
      "cell_type": "code",
      "source": [],
      "metadata": {
        "id": "ua_d4PgQy6QI"
      },
      "execution_count": null,
      "outputs": []
    }
  ]
}